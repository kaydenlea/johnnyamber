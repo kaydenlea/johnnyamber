{
  "nbformat": 4,
  "nbformat_minor": 0,
  "metadata": {
    "colab": {
      "name": "twitter.ipynb",
      "provenance": [],
      "authorship_tag": "ABX9TyP2MQgLfUh8f/NCnx8EguCe",
      "include_colab_link": true
    },
    "kernelspec": {
      "name": "python3",
      "display_name": "Python 3"
    },
    "language_info": {
      "name": "python"
    }
  },
  "cells": [
    {
      "cell_type": "markdown",
      "metadata": {
        "id": "view-in-github",
        "colab_type": "text"
      },
      "source": [
        "<a href=\"https://colab.research.google.com/github/kaydenlea/johnnyamber/blob/main/twitter.ipynb\" target=\"_parent\"><img src=\"https://colab.research.google.com/assets/colab-badge.svg\" alt=\"Open In Colab\"/></a>"
      ]
    },
    {
      "cell_type": "code",
      "execution_count": null,
      "metadata": {
        "id": "rOD3cNJlFt-g"
      },
      "outputs": [],
      "source": [
        "import textblob\n",
        "import tweepy\n",
        "from textblob import TextBlob\n",
        "import sys"
      ]
    },
    {
      "cell_type": "code",
      "source": [
        "#personal keys held in txt file\n",
        "mykeys = open('twitterkeys.txt','r').read().splitlines()\n",
        "#sets keys from file\n",
        "api_key=mykeys[0]\n",
        "api_key_secret=mykeys[1]\n",
        "access_token = mykeys[2]\n",
        "access_token_secret = mykeys[3]\n",
        "# creating an authentication handelr to connect to app\n",
        "auth_handler = tweepy.OAuthHandler(consumer_key= api_key, consumer_secret=api_key_secret)\n",
        "auth_handler.set_access_token(access_token, access_token_secret) #sets access token\n",
        "#creates the api\n",
        "api = tweepy.API(auth_handler) "
      ],
      "metadata": {
        "id": "f0p0FyFIGKkZ"
      },
      "execution_count": null,
      "outputs": []
    },
    {
      "cell_type": "code",
      "source": [
        "search_term1 ='Amber Heard'\n",
        "search_term2 = 'Johnny Depp'\n",
        "tweet_amount = 200\n",
        "\n",
        "tweets1 = tweepy.Cursor(api.search, q=search_term1, lang='en').items(tweet_amount)\n",
        "tweets2 = tweepy.Cursor(api.search, q=search_term2, lang='en').items(tweet_amount)\n",
        "#goes through all the tweets and cleans off retweets and mentions\n",
        "\n",
        "def tweetAnalysis(tweets): # function to classify tweets as positive or negative\n",
        "  positive = 0\n",
        "  neutral = 0\n",
        "  negative = 0\n",
        "  polarity_one = 0 # measures the positivity of text\n",
        "  for tweet in tweets:\n",
        "    final_text = tweet.text.replace('RT','')\n",
        "    if final_text.startswith(' @'):\n",
        "      position = final_text.index(':')\n",
        "      final_text = final_text[position+2:]\n",
        "    if final_text.startswith('@'):\n",
        "      position = final_text.index(' ')\n",
        "      final_text = final_text[position+2:]\n",
        "  \n",
        "    analysis = TextBlob(final_text)\n",
        "    tweet_polarity = analysis.polarity\n",
        "    if tweet_polarity> 0: #counts the amount of positive, negative and neutral tweets\n",
        "        positive +=1\n",
        "    elif tweet_polarity<0:\n",
        "      negative +=1\n",
        "    else:\n",
        "      neutral+=1\n",
        "    polarity_one += analysis.polarity\n",
        "  print(polarity_one)\n",
        "  print('Positive tweets: ' + str(positive))\n",
        "  print('Negative tweets: ' + str(negative))\n",
        "\n",
        "print(\"Amber Heard Sentiment:\") # prints the results\n",
        "tweetAnalysis(tweets1)\n",
        "print(\"\\nJohnny Depp Sentiment:\")\n",
        "tweetAnalysis(tweets2)"
      ],
      "metadata": {
        "colab": {
          "base_uri": "https://localhost:8080/"
        },
        "id": "I9yJKlUqHZTG",
        "outputId": "9b54ea72-bf75-430c-ddab-1f458e79fe89"
      },
      "execution_count": null,
      "outputs": [
        {
          "output_type": "stream",
          "name": "stdout",
          "text": [
            "Amber Heard Sentiment:\n",
            "3.8607007575757573\n",
            "Positive tweets: 61\n",
            "Negative tweets: 44\n",
            "\n",
            "Johnny Depp Sentiment:\n",
            "18.98971577323705\n",
            "Positive tweets: 76\n",
            "Negative tweets: 39\n"
          ]
        }
      ]
    },
    {
      "cell_type": "code",
      "source": [
        "if polarity_one<polarity_two: # summarizes findings\n",
        "  print(\"Amber Heard has more negative sentiment than Johnny Depp\")\n",
        "elif polarity_two<polarity_one:\n",
        "  print(\"Johnny Depp has more negative sentiment than Amber Heard\")"
      ],
      "metadata": {
        "colab": {
          "base_uri": "https://localhost:8080/"
        },
        "id": "6CxA5c7HbMCd",
        "outputId": "f157dedf-8ae2-4898-d635-5db4f606d384"
      },
      "execution_count": null,
      "outputs": [
        {
          "output_type": "stream",
          "name": "stdout",
          "text": [
            "Amber Heard has more negative sentiment than Johnny Depp\n"
          ]
        }
      ]
    }
  ]
}